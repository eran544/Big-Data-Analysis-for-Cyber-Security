{
 "cells": [
  {
   "cell_type": "markdown",
   "metadata": {},
   "source": [
    "# EX1 - TSA\n",
    "## In this exercise  you will play with two dummy sequences, visualize them and measure distances using Euclidean and DTW"
   ]
  },
  {
   "cell_type": "markdown",
   "metadata": {},
   "source": [
    "# Input data"
   ]
  },
  {
   "cell_type": "code",
   "execution_count": 20,
   "metadata": {
    "ExecuteTime": {
     "end_time": "2019-02-05T07:06:22.069618Z",
     "start_time": "2019-02-05T07:06:22.060104Z"
    }
   },
   "outputs": [],
   "source": [
    "import numpy as np\n",
    "a = np.array([0,0,0,1,1,10,10,100,100,500,500,1000,0])\n",
    "b = np.array([0,1,10,100,500,1000,0,0,0,0,0,0,0])"
   ]
  },
  {
   "cell_type": "markdown",
   "metadata": {},
   "source": [
    "## Visualize\n",
    "(Run twice to see the output)"
   ]
  },
  {
   "cell_type": "code",
   "execution_count": 21,
   "metadata": {
    "ExecuteTime": {
     "end_time": "2019-02-05T07:06:22.795002Z",
     "start_time": "2019-02-05T07:06:22.555704Z"
    }
   },
   "outputs": [
    {
     "data": {
      "image/png": "[encoded data removed]",
      "text/plain": [
       "<Figure size 432x288 with 1 Axes>"
      ]
     },
     "metadata": {
      "needs_background": "light"
     },
     "output_type": "display_data"
    }
   ],
   "source": [
    "import matplotlib.pyplot as plt\n",
    "plt.plot(range(len(a)), a)\n",
    "plt.plot(range(len(b)), b)\n",
    "plt.show()"
   ]
  },
  {
   "cell_type": "markdown",
   "metadata": {},
   "source": [
    "# <span style=\"color:red\">Q1:</span> Think - would you say the two have a similar pattern?"
   ]
  },
  {
   "cell_type": "markdown",
   "metadata": {},
   "source": [
    "## <span style=\"color:red\">A:</span> Yes i would!"
   ]
  },
  {
   "cell_type": "markdown",
   "metadata": {},
   "source": [
    "# Euclidean distance"
   ]
  },
  {
   "cell_type": "code",
   "execution_count": 22,
   "metadata": {
    "ExecuteTime": {
     "end_time": "2019-02-05T07:06:42.272265Z",
     "start_time": "2019-02-05T07:06:42.250891Z"
    }
   },
   "outputs": [
    {
     "name": "stdout",
     "output_type": "stream",
     "text": [
      "Euclidean distance:\n",
      "1661.0547853698263\n"
     ]
    }
   ],
   "source": [
    "print(\"Euclidean distance:\")\n",
    "print(np.linalg.norm(a-b))"
   ]
  },
  {
   "cell_type": "markdown",
   "metadata": {},
   "source": [
    "# <span style=\"color:red\">Q2:</span> Is the euclidean distance representing the distance properly?"
   ]
  },
  {
   "cell_type": "markdown",
   "metadata": {},
   "source": [
    "## <span style=\"color:red\">A:</span>"
   ]
  },
  {
   "cell_type": "markdown",
   "metadata": {},
   "source": [
    "# Using center of mass"
   ]
  },
  {
   "cell_type": "markdown",
   "metadata": {},
   "source": [
    "## Utils\n",
    " Use this function to center the time series.\n",
    " To find the center we use scipy.ndimage.measurements.center_of_mass (note the return type)"
   ]
  },
  {
   "cell_type": "code",
   "execution_count": 23,
   "metadata": {},
   "outputs": [],
   "source": [
    "from collections import deque\n",
    "def recenter(arr, arr_center):\n",
    "    items = deque(arr)\n",
    "    for i in range(len(arr)):\n",
    "        items.append(0)\n",
    "    items.rotate(len(arr)-int(arr_center))\n",
    "    return np.array(items)"
   ]
  },
  {
   "cell_type": "markdown",
   "metadata": {},
   "source": [
    "## Recenter the sequences"
   ]
  },
  {
   "cell_type": "code",
   "execution_count": 24,
   "metadata": {
    "ExecuteTime": {
     "end_time": "2019-02-05T07:13:03.94737Z",
     "start_time": "2019-02-05T07:13:03.942504Z"
    }
   },
   "outputs": [],
   "source": [
    "from scipy import ndimage\n",
    "a_center = ndimage.measurements.center_of_mass(a)[0]\n",
    "b_center = ndimage.measurements.center_of_mass(b)[0]\n",
    "a_recenter = recenter(a, a_center)\n",
    "b_recenter = recenter(b, b_center)"
   ]
  },
  {
   "cell_type": "markdown",
   "metadata": {},
   "source": [
    "## Plot the recentered time series"
   ]
  },
  {
   "cell_type": "code",
   "execution_count": 25,
   "metadata": {
    "ExecuteTime": {
     "end_time": "2019-02-05T07:13:50.708917Z",
     "start_time": "2019-02-05T07:13:50.490988Z"
    }
   },
   "outputs": [
    {
     "data": {
      "image/png": "[encoded data removed]",
      "text/plain": [
       "<Figure size 432x288 with 1 Axes>"
      ]
     },
     "metadata": {
      "needs_background": "light"
     },
     "output_type": "display_data"
    }
   ],
   "source": [
    "plt.plot(range(len(a_recenter)), a_recenter)\n",
    "plt.plot(range(len(b_recenter)), b_recenter)\n",
    "plt.show()"
   ]
  },
  {
   "cell_type": "code",
   "execution_count": 26,
   "metadata": {},
   "outputs": [
    {
     "data": {
      "text/plain": [
       "array([   0,    0,    0,    1,    1,   10,   10,  100,  100,  500,  500,\n",
       "       1000,    0])"
      ]
     },
     "execution_count": 26,
     "metadata": {},
     "output_type": "execute_result"
    }
   ],
   "source": [
    "a"
   ]
  },
  {
   "cell_type": "code",
   "execution_count": 27,
   "metadata": {},
   "outputs": [
    {
     "data": {
      "text/plain": [
       "array([   0,    1,   10,  100,  500, 1000,    0,    0,    0,    0,    0,\n",
       "          0,    0])"
      ]
     },
     "execution_count": 27,
     "metadata": {},
     "output_type": "execute_result"
    }
   ],
   "source": [
    "b"
   ]
  },
  {
   "cell_type": "code",
   "execution_count": 28,
   "metadata": {
    "ExecuteTime": {
     "end_time": "2019-02-05T07:13:50.708917Z",
     "start_time": "2019-02-05T07:13:50.490988Z"
    }
   },
   "outputs": [
    {
     "name": "stdout",
     "output_type": "stream",
     "text": [
      "Centerized Euclidean distance:\n",
      "1121.7321427150066\n"
     ]
    }
   ],
   "source": [
    "print(\"Centerized Euclidean distance:\")\n",
    "print(np.linalg.norm(a_recenter-b_recenter))"
   ]
  },
  {
   "cell_type": "markdown",
   "metadata": {},
   "source": [
    "## <span style=\"color:red\">Q3:</span> What impact did using center of mass had on the distnace?"
   ]
  },
  {
   "cell_type": "markdown",
   "metadata": {},
   "source": [
    "## <span style=\"color:red\">A:</span>"
   ]
  },
  {
   "cell_type": "markdown",
   "metadata": {},
   "source": [
    "# DTW\n",
    "## Install the package"
   ]
  },
  {
   "cell_type": "code",
   "execution_count": 29,
   "metadata": {},
   "outputs": [
    {
     "name": "stdout",
     "output_type": "stream",
     "text": [
      "Requirement already satisfied: dtw in c:\\users\\eran\\anaconda3\\lib\\site-packages (1.4.0)\n",
      "Requirement already satisfied: scipy in c:\\users\\eran\\anaconda3\\lib\\site-packages (from dtw) (1.1.0)\n",
      "Requirement already satisfied: numpy in c:\\users\\eran\\anaconda3\\lib\\site-packages (from dtw) (1.15.4)\n"
     ]
    }
   ],
   "source": [
    "!pip install dtw"
   ]
  },
  {
   "cell_type": "markdown",
   "metadata": {},
   "source": [
    "## Compute DTW"
   ]
  },
  {
   "cell_type": "code",
   "execution_count": 30,
   "metadata": {
    "ExecuteTime": {
     "end_time": "2019-02-05T07:06:48.442346Z",
     "start_time": "2019-02-05T07:06:48.180742Z"
    }
   },
   "outputs": [
    {
     "name": "stdout",
     "output_type": "stream",
     "text": [
      "DTW:\n",
      "0.0\n"
     ]
    }
   ],
   "source": [
    "from dtw import dtw\n",
    "# reshape to make it work\n",
    "x = a.reshape(-1, 1)\n",
    "y = b.reshape(-1, 1)\n",
    "\n",
    "# Here, we use L2 norm as the element comparison distance\n",
    "l2_norm = lambda x, y: (x - y) ** 2\n",
    "\n",
    "d, cost_matrix, acc_cost_matrix, path = dtw(x, y, dist=l2_norm)\n",
    "\n",
    "print(\"DTW:\")\n",
    "print(d)"
   ]
  },
  {
   "cell_type": "code",
   "execution_count": 31,
   "metadata": {
    "ExecuteTime": {
     "end_time": "2019-02-05T07:06:48.442346Z",
     "start_time": "2019-02-05T07:06:48.180742Z"
    }
   },
   "outputs": [
    {
     "data": {
      "image/png": "[encoded data removed]",
      "text/plain": [
       "<Figure size 432x288 with 1 Axes>"
      ]
     },
     "metadata": {
      "needs_background": "light"
     },
     "output_type": "display_data"
    }
   ],
   "source": [
    "# You can also visualise the accumulated cost and the shortest path\n",
    "import matplotlib.pyplot as plt\n",
    "\n",
    "plt.imshow(acc_cost_matrix.T, origin='lower', cmap='gray', interpolation='nearest')\n",
    "plt.plot(path[0], path[1], 'w')\n",
    "plt.show()"
   ]
  },
  {
   "cell_type": "markdown",
   "metadata": {},
   "source": [
    "## <span style=\"color:red\">Q4:</span> How can the distance be 0? Take a look at the sequences again."
   ]
  },
  {
   "cell_type": "markdown",
   "metadata": {},
   "source": [
    "## <span style=\"color:red\">A:</span> "
   ]
  },
  {
   "cell_type": "markdown",
   "metadata": {},
   "source": [
    "## Another example\n",
    "### In this case y is a sub-sequence of x"
   ]
  },
  {
   "cell_type": "code",
   "execution_count": 16,
   "metadata": {
    "ExecuteTime": {
     "end_time": "2019-02-05T07:12:17.094178Z",
     "start_time": "2019-02-05T07:12:16.86156Z"
    }
   },
   "outputs": [
    {
     "data": {
      "image/png": "[encoded data removed]",
      "text/plain": [
       "<Figure size 432x288 with 1 Axes>"
      ]
     },
     "metadata": {
      "needs_background": "light"
     },
     "output_type": "display_data"
    }
   ],
   "source": [
    "x = np.array([2, 0, 1, 1, 2, 4, 2, 1, 2, 0]).reshape(-1, 1)\n",
    "y = np.array([1, 1, 2, 4, 2, 1, 2, 0]).reshape(-1, 1)\n",
    "plt.plot(range(len(x)), x)\n",
    "plt.plot(range(len(y)), y)\n",
    "plt.show()"
   ]
  },
  {
   "cell_type": "markdown",
   "metadata": {},
   "source": [
    "## <span style=\"color:red\">Q4.1:</span> Take a carefull look at the two sequences. Would you expect a high or low distance between them?"
   ]
  },
  {
   "cell_type": "markdown",
   "metadata": {},
   "source": [
    "## <span style=\"color:red\">A:</span> "
   ]
  },
  {
   "cell_type": "code",
   "execution_count": 17,
   "metadata": {
    "ExecuteTime": {
     "end_time": "2019-02-05T07:12:17.094178Z",
     "start_time": "2019-02-05T07:12:16.86156Z"
    }
   },
   "outputs": [
    {
     "name": "stdout",
     "output_type": "stream",
     "text": [
      "DTW:\n",
      "0.1111111111111111\n"
     ]
    },
    {
     "data": {
      "image/png": "[encoded data removed]",
      "text/plain": [
       "<Figure size 432x288 with 1 Axes>"
      ]
     },
     "metadata": {
      "needs_background": "light"
     },
     "output_type": "display_data"
    }
   ],
   "source": [
    "d, cost_matrix, acc_cost_matrix, path = dtw(x, y, dist=l2_norm)\n",
    "print(\"DTW:\")\n",
    "print(d)\n",
    "\n",
    "# You can also visualise the accumulated cost and the shortest path\n",
    "import matplotlib.pyplot as plt\n",
    "\n",
    "plt.imshow(acc_cost_matrix.T, origin='lower', cmap='gray', interpolation='nearest')\n",
    "plt.plot(path[0], path[1], 'w')\n",
    "plt.show()"
   ]
  },
  {
   "cell_type": "markdown",
   "metadata": {},
   "source": [
    "## \"Bonus question\""
   ]
  },
  {
   "cell_type": "markdown",
   "metadata": {},
   "source": [
    "## <span style=\"color:red\">Q5:</span> Take a carefull look at the two sequences below. Keep in mind the formula for DTW. Would you expect a high or low distance between them? Why?"
   ]
  },
  {
   "cell_type": "markdown",
   "metadata": {},
   "source": [
    "## <span style=\"color:red\">A:</span>"
   ]
  },
  {
   "cell_type": "code",
   "execution_count": null,
   "metadata": {
    "ExecuteTime": {
     "end_time": "2019-02-05T07:12:14.154815Z",
     "start_time": "2019-02-05T07:12:14.141663Z"
    }
   },
   "outputs": [],
   "source": [
    "x = np.array([0,0,0,1,10,100]).reshape(-1, 1)\n",
    "y = np.array([0,1,10,100,0,0]).reshape(-1, 1)\n",
    "plt.plot(range(len(x)), x)\n",
    "plt.plot(range(len(y)), y)\n",
    "plt.show()"
   ]
  },
  {
   "cell_type": "code",
   "execution_count": null,
   "metadata": {},
   "outputs": [],
   "source": [
    "d, cost_matrix, acc_cost_matrix, path = dtw(x, y, dist=l2_norm)\n",
    "print(d)\n",
    "\n",
    "# You can also visualise the accumulated cost and the shortest path\n",
    "import matplotlib.pyplot as plt\n",
    "\n",
    "plt.imshow(acc_cost_matrix.T, origin='lower', cmap='gray', interpolation='nearest')\n",
    "plt.plot(path[0], path[1], 'w')\n",
    "plt.show()"
   ]
  },
  {
   "cell_type": "markdown",
   "metadata": {},
   "source": [
    "## <span style=\"color:red\">Q6:</span> What is the reason you got this results? How can you \"fix\" this?"
   ]
  },
  {
   "cell_type": "markdown",
   "metadata": {},
   "source": [
    "## <span style=\"color:red\">A:</span>"
   ]
  },
  {
   "cell_type": "markdown",
   "metadata": {},
   "source": [
    "# Great work!"
   ]
  },
  {
   "cell_type": "code",
   "execution_count": null,
   "metadata": {},
   "outputs": [],
   "source": []
  }
 ],
 "metadata": {
  "kernelspec": {
   "display_name": "Python 3",
   "language": "python",
   "name": "python3"
  },
  "language_info": {
   "codemirror_mode": {
    "name": "ipython",
    "version": 3
   },
   "file_extension": ".py",
   "mimetype": "text/x-python",
   "name": "python",
   "nbconvert_exporter": "python",
   "pygments_lexer": "ipython3",
   "version": "3.7.1"
  },
  "toc": {
   "base_numbering": 1,
   "nav_menu": {},
   "number_sections": true,
   "sideBar": true,
   "skip_h1_title": false,
   "title_cell": "Table of Contents",
   "title_sidebar": "Contents",
   "toc_cell": false,
   "toc_position": {},
   "toc_section_display": true,
   "toc_window_display": false
  },
  "varInspector": {
   "cols": {
    "lenName": 16,
    "lenType": 16,
    "lenVar": 40
   },
   "kernels_config": {
    "python": {
     "delete_cmd_postfix": "",
     "delete_cmd_prefix": "del ",
     "library": "var_list.py",
     "varRefreshCmd": "print(var_dic_list())"
    },
    "r": {
     "delete_cmd_postfix": ") ",
     "delete_cmd_prefix": "rm(",
     "library": "var_list.r",
     "varRefreshCmd": "cat(var_dic_list()) "
    }
   },
   "types_to_exclude": [
    "module",
    "function",
    "builtin_function_or_method",
    "instance",
    "_Feature"
   ],
   "window_display": false
  }
 },
 "nbformat": 4,
 "nbformat_minor": 2
}
