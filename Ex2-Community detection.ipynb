{
  "cells": [
    {
      "metadata": {},
      "cell_type": "markdown",
      "source": "# EX2 - Community detection\n## In this exercise  you will use the famous \"Zachary’s Karate club\" network.\n### By the way - Amir Rubin is a member of the \"Karate club\"-club :\n### https://en.wikipedia.org/wiki/Zachary%27s_karate_club#Zachary_Karate_Club_Club"
    },
    {
      "metadata": {},
      "cell_type": "markdown",
      "source": "# Get packages needed for this task"
    },
    {
      "metadata": {
        "trusted": true
      },
      "cell_type": "code",
      "source": "!pip install networkx==2.2\nimport networkx as nx\nprint(nx.__version__)",
      "execution_count": null,
      "outputs": []
    },
    {
      "metadata": {},
      "cell_type": "markdown",
      "source": "# Get Data"
    },
    {
      "metadata": {
        "ExecuteTime": {
          "end_time": "2019-02-05T15:25:51.094267Z",
          "start_time": "2019-02-05T15:25:50.535537Z"
        },
        "trusted": true
      },
      "cell_type": "code",
      "source": "import networkx as nx\nimport matplotlib.pyplot as plt\nfrom networkx.algorithms import community\n\nG = nx.karate_club_graph()\nprint(\"Community membership:\")\n\nfor n in G.nodes():\n    print(str(n) +\": \"+ str(G.node[n]['club']))\n",
      "execution_count": null,
      "outputs": []
    },
    {
      "metadata": {},
      "cell_type": "markdown",
      "source": "## Lets generate a nice coloring schema, where the main nodes are in different colors, and each community has it own color"
    },
    {
      "metadata": {
        "trusted": true
      },
      "cell_type": "code",
      "source": "real_comms_colors = [2] + [0 if ('Hi' in G.node[n]['club']) else 1 for n in range(1,G.number_of_nodes()-1)] + [2]",
      "execution_count": null,
      "outputs": []
    },
    {
      "metadata": {},
      "cell_type": "markdown",
      "source": "# Visualize (dummy)"
    },
    {
      "metadata": {
        "trusted": true
      },
      "cell_type": "code",
      "source": "nx.draw_circular(G, with_labels=True,node_color= real_comms_colors)",
      "execution_count": null,
      "outputs": []
    },
    {
      "metadata": {},
      "cell_type": "markdown",
      "source": "## The above is just a random sorting on a circle. We can do better than this!\n### Experiment with the three options below"
    },
    {
      "metadata": {
        "trusted": true
      },
      "cell_type": "code",
      "source": "#nx.draw(G, pos=nx.random_layout(G), with_labels=True, node_color  = real_comms_colors)\n#nx.draw(G, pos=nx.spectral_layout(G), with_labels=True, node_color  = real_comms_colors)\nnx.draw_networkx(G, pos=nx.spring_layout(G), with_labels=True,node_color  = real_comms_colors)\nplt.show()",
      "execution_count": null,
      "outputs": []
    },
    {
      "metadata": {},
      "cell_type": "markdown",
      "source": "# Community Detection"
    },
    {
      "metadata": {},
      "cell_type": "markdown",
      "source": "## Girvan Newman"
    },
    {
      "metadata": {
        "trusted": true
      },
      "cell_type": "code",
      "source": "communities_generator = community.girvan_newman(G)\ni=0\nwhile (True):\n    i+=1\n    print(\"Level \" + str(i))\n    print(next(communities_generator))",
      "execution_count": null,
      "outputs": []
    },
    {
      "metadata": {},
      "cell_type": "markdown",
      "source": "# Q: What is each level? Select one you think is the best and output it."
    },
    {
      "metadata": {
        "trusted": true
      },
      "cell_type": "code",
      "source": "best_level = #TODO - Select one you think works well (hint: in the original graph we had only two communities...)",
      "execution_count": null,
      "outputs": []
    },
    {
      "metadata": {
        "trusted": true
      },
      "cell_type": "code",
      "source": "communities_generator = community.girvan_newman(G)\ni=0\nwhile True:\n    i+=1\n    comms = next(communities_generator)\n    if i == best_level:\n        break\npart_i=0\nfor part in comms:\n    print(\"\")\n    print(\"Community number \" +str(part_i))        \n    for node in part:\n        print(str(node) + \": \" + str(G.node[node]))\n    part_i+=1",
      "execution_count": null,
      "outputs": []
    },
    {
      "metadata": {},
      "cell_type": "markdown",
      "source": "# Q: Is this a good partition? If you have nodes misplaced, why?"
    },
    {
      "metadata": {},
      "cell_type": "markdown",
      "source": "# A:"
    },
    {
      "metadata": {},
      "cell_type": "markdown",
      "source": "# Greedy modularity\n## Lets use Louvain algo to find communities"
    },
    {
      "metadata": {
        "ExecuteTime": {
          "end_time": "2019-02-05T14:17:19.679703Z",
          "start_time": "2019-02-05T14:17:19.671723Z"
        },
        "trusted": true
      },
      "cell_type": "code",
      "source": "partition_by_Algo = community.greedy_modularity_communities(G)\n\npartition = dict()\npart_i=0\nfor part in partition_by_Algo:\n    print(\"\")\n    print(\"Community number \" +str(part_i))        \n    for node in part:\n        print(str(node) + \": \" + str(G.node[node]))\n        partition[node] =  part_i        \n    part_i+=1\n",
      "execution_count": null,
      "outputs": []
    },
    {
      "metadata": {},
      "cell_type": "markdown",
      "source": "# Q: Two of the nodes is assigned to the \"wrong\" community.\n## which nodes? \n## Why did this happend (look at the neighbours)?"
    },
    {
      "metadata": {},
      "cell_type": "markdown",
      "source": "\n# A:"
    },
    {
      "metadata": {},
      "cell_type": "markdown",
      "source": "# Plot using the Louvain partition\n# Small task:\n## build a list of colors based on the partition to be used to color the graph"
    },
    {
      "metadata": {
        "trusted": true
      },
      "cell_type": "code",
      "source": "colors = #TODO",
      "execution_count": null,
      "outputs": []
    },
    {
      "metadata": {
        "trusted": true
      },
      "cell_type": "code",
      "source": "nx.draw_networkx(G, pos=nx.kamada_kawai_layout(G), with_labels=True, node_color  = colors)\nplt.show()",
      "execution_count": null,
      "outputs": []
    },
    {
      "metadata": {},
      "cell_type": "markdown",
      "source": "# Plot based on the communities detected"
    },
    {
      "metadata": {
        "ExecuteTime": {
          "end_time": "2019-02-05T14:16:59.614246Z",
          "start_time": "2019-02-05T14:16:59.574683Z"
        },
        "trusted": true
      },
      "cell_type": "code",
      "source": "import numpy as np\nimport matplotlib.pyplot as plt\nimport networkx as nx\n\ndef community_layout(g, partition):\n    \"\"\"\n    Compute the layout for a modular graph.\n\n\n    Arguments:\n    ----------\n    g -- networkx.Graph or networkx.DiGraph instance\n        graph to plot\n\n    partition -- dict mapping int node -> int community\n        graph partitions\n\n\n    Returns:\n    --------\n    pos -- dict mapping int node -> (float x, float y)\n        node positions\n\n    \"\"\"\n\n    pos_communities = _position_communities(g, partition, scale=2.)\n\n    pos_nodes = _position_nodes(g, partition, scale=.8)\n\n    # combine positions\n    pos = dict()\n    for node in g.nodes():\n        pos[node] = np.array(pos_communities[node] + pos_nodes[node])\n\n    return pos\n\ndef _position_communities(g, partition, **kwargs):\n\n    # create a weighted graph, in which each node corresponds to a community,\n    # and each edge weight to the number of edges between communities\n    between_community_edges = _find_between_community_edges(g, partition)\n\n    communities = set(partition.values())\n    hypergraph = nx.DiGraph()\n    hypergraph.add_nodes_from(communities)\n    for (ci, cj), edges in between_community_edges.items():\n        hypergraph.add_edge(ci, cj, weight=len(edges))\n\n    # find layout for communities\n    pos_communities = nx.spring_layout(hypergraph, **kwargs)\n\n    # set node positions to position of community\n    pos = dict()\n    for node, community in partition.items():\n        pos[node] = pos_communities[community]\n\n    return pos\n\ndef _find_between_community_edges(g, partition):\n\n    edges = dict()\n\n    for (ni, nj) in g.edges():\n        ci = partition[ni]\n        cj = partition[nj]\n\n        if ci != cj:\n            try:\n                edges[(ci, cj)] += [(ni, nj)]\n            except KeyError:\n                edges[(ci, cj)] = [(ni, nj)]\n\n    return edges\n\ndef _position_nodes(g, partition, **kwargs):\n    \"\"\"\n    Positions nodes within communities.\n    \"\"\"\n\n    communities = dict()\n    for node, community in partition.items():\n        try:\n            communities[community] += [node]\n        except KeyError:\n            communities[community] = [node]\n\n    pos = dict()\n    for ci, nodes in communities.items():\n        subgraph = g.subgraph(nodes)\n        pos_subgraph = nx.spring_layout(subgraph, **kwargs)\n        pos.update(pos_subgraph)\n\n    return pos\n\ndef test():\n    pos = community_layout(G, partition)\n    \n    colors=[]\n    for i in range(len(G.nodes())):\n        colors.append(partition[i]*1.0)\n    print()\n    \n    labels = dict()\n    for i in G.nodes():\n        labels[i] = G.nodes[i]['club']\n    \n    nx.draw(G, pos, node_color=colors, with_labels=True, labels=labels, font_size=8)\n    plt.show()\n    return\ntest()\npartition.values()",
      "execution_count": null,
      "outputs": []
    },
    {
      "metadata": {},
      "cell_type": "markdown",
      "source": "# Q: is it easier to analyze the network this way? What if the community detection algorithm gave bad results? "
    },
    {
      "metadata": {},
      "cell_type": "markdown",
      "source": "# A:"
    },
    {
      "metadata": {
        "trusted": true
      },
      "cell_type": "code",
      "source": "",
      "execution_count": null,
      "outputs": []
    }
  ],
  "metadata": {
    "kernelspec": {
      "name": "python3",
      "display_name": "Python 3",
      "language": "python"
    },
    "language_info": {
      "mimetype": "text/x-python",
      "nbconvert_exporter": "python",
      "name": "python",
      "file_extension": ".py",
      "version": "3.5.4",
      "pygments_lexer": "ipython3",
      "codemirror_mode": {
        "version": 3,
        "name": "ipython"
      }
    },
    "toc": {
      "base_numbering": 1,
      "nav_menu": {},
      "number_sections": true,
      "sideBar": true,
      "skip_h1_title": false,
      "title_cell": "Table of Contents",
      "title_sidebar": "Contents",
      "toc_cell": false,
      "toc_position": {},
      "toc_section_display": true,
      "toc_window_display": false
    },
    "varInspector": {
      "cols": {
        "lenName": 16,
        "lenType": 16,
        "lenVar": 40
      },
      "kernels_config": {
        "python": {
          "delete_cmd_postfix": "",
          "delete_cmd_prefix": "del ",
          "library": "var_list.py",
          "varRefreshCmd": "print(var_dic_list())"
        },
        "r": {
          "delete_cmd_postfix": ") ",
          "delete_cmd_prefix": "rm(",
          "library": "var_list.r",
          "varRefreshCmd": "cat(var_dic_list()) "
        }
      },
      "types_to_exclude": [
        "module",
        "function",
        "builtin_function_or_method",
        "instance",
        "_Feature"
      ],
      "window_display": false
    }
  },
  "nbformat": 4,
  "nbformat_minor": 2
}